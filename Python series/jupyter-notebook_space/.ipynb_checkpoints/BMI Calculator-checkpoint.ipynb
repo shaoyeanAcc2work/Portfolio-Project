{
 "cells": [
  {
   "cell_type": "code",
   "execution_count": 7,
   "id": "5d0b1520-5cb2-4d4c-a2ff-394538997534",
   "metadata": {},
   "outputs": [
    {
     "name": "stdin",
     "output_type": "stream",
     "text": [
      "Enter your height in metric units(cm):  174\n",
      "Enter your weight in metric units(kg):  80\n"
     ]
    },
    {
     "name": "stdout",
     "output_type": "stream",
     "text": [
      "26.42356982428326\n",
      " You are overweight. You need to exercise more and stop sitting and writing so many python tutorials.\n"
     ]
    }
   ],
   "source": [
    "height = int(input(\"Enter your height in metric units(cm): \"))\n",
    "weight = int(input(\"Enter your weight in metric units(kg): \"))\n",
    "\n",
    "height_IN_MITRES = height / 100\n",
    "BMI = weight / (height_IN_MITRES*height_IN_MITRES)\n",
    "\n",
    "if BMI>0:\n",
    "    print(BMI)\n",
    "    if(BMI<18.5):\n",
    "        print(\" You are underwight.\")\n",
    "    elif (BMI<=24.9):\n",
    "        print(\" You are normal weight.\")\n",
    "    elif (BMI<29.9):\n",
    "        print(\" You are overweight. You need to exercise more and stop sitting and writing so many python tutorials.\")\n",
    "    elif (BMI<34.9):\n",
    "        print(\" You are obese.\")\n",
    "    elif (BMI<39.9):\n",
    "        print(\" You are severely obese.\")\n",
    "    else:\n",
    "        print(\" You are morbidly obese.\")\n",
    "else:\n",
    "    print(\"Enter valid input\")"
   ]
  }
 ],
 "metadata": {
  "kernelspec": {
   "display_name": "Python 3 (ipykernel)",
   "language": "python",
   "name": "python3"
  },
  "language_info": {
   "codemirror_mode": {
    "name": "ipython",
    "version": 3
   },
   "file_extension": ".py",
   "mimetype": "text/x-python",
   "name": "python",
   "nbconvert_exporter": "python",
   "pygments_lexer": "ipython3",
   "version": "3.12.7"
  }
 },
 "nbformat": 4,
 "nbformat_minor": 5
}
