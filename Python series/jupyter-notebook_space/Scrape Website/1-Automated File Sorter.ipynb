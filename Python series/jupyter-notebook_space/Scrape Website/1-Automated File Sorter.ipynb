{
 "cells": [
  {
   "cell_type": "code",
   "execution_count": 13,
   "id": "2aa44353-1c63-4b75-b4de-688ab9fb1c19",
   "metadata": {},
   "outputs": [],
   "source": [
    "import os, shutil"
   ]
  },
  {
   "cell_type": "code",
   "execution_count": 14,
   "id": "f07fc614-4c7a-431a-b94b-84cb8236a5ac",
   "metadata": {},
   "outputs": [],
   "source": [
    "path = r\"C:/Users/User/Desktop/New folder/\""
   ]
  },
  {
   "cell_type": "code",
   "execution_count": 15,
   "id": "453d28c7-4e52-4097-8b72-ab89d6296a95",
   "metadata": {},
   "outputs": [
    {
     "data": {
      "text/plain": [
       "['20241211102521_1.jpg',\n",
       " 'lx2nz4c5xfxc1.jpeg',\n",
       " 'OIP.jfif',\n",
       " 'PasswordGenerator.py',\n",
       " 'PrimeNm.py',\n",
       " 'Untitled1.cpp',\n",
       " 'Untitled1.exe']"
      ]
     },
     "execution_count": 15,
     "metadata": {},
     "output_type": "execute_result"
    }
   ],
   "source": [
    "os.listdir(path)\n"
   ]
  },
  {
   "cell_type": "code",
   "execution_count": 16,
   "id": "af97c81f-b2fb-476c-aeb2-c6623a95b551",
   "metadata": {},
   "outputs": [],
   "source": [
    "folder_name = ['image files', 'scripts files']\n",
    "\n",
    "for loop in range(0, 2):\n",
    "    if not os.path.exists(path + folder_name[loop]):\n",
    "        os.makedirs(path + folder_name[loop])"
   ]
  },
  {
   "cell_type": "code",
   "execution_count": 18,
   "id": "adbc534e-a544-463f-80cd-b0a7e7b91ac4",
   "metadata": {},
   "outputs": [],
   "source": [
    "file_name = os.listdir(path)\n",
    "\n",
    "for files in file_name:\n",
    "    if \".jpg\" in files and not os.path.exists(path + \"image files/\" + files):\n",
    "        shutil.move(path + files, path + \"image files/\" + files)\n",
    "    if \".jpeg\" in files and not os.path.exists(path + \"image files/\" + files):\n",
    "        shutil.move(path + files, path + \"image files/\" + files)\n",
    "    if \".jfif\" in files and not os.path.exists(path + \"image files/\" + files):\n",
    "        shutil.move(path + files, path + \"image files/\" + files)\n",
    "    if \".py\" in files and not os.path.exists(path + \"scripts files/\" + files):\n",
    "        shutil.move(path + files, path + \"scripts files/\" + files)\n",
    "    if \".cpp\" in files and not os.path.exists(path + \"scripts files/\" + files):\n",
    "        shutil.move(path + files, path + \"scripts files/\" + files)"
   ]
  },
  {
   "cell_type": "code",
   "execution_count": null,
   "id": "b0ca2c4b-80e9-4eb3-ae77-4eb12f8e85be",
   "metadata": {},
   "outputs": [],
   "source": []
  },
  {
   "cell_type": "code",
   "execution_count": null,
   "id": "cbeb06ad-59d1-43d5-8430-0856e7b8cadf",
   "metadata": {},
   "outputs": [],
   "source": []
  },
  {
   "cell_type": "code",
   "execution_count": null,
   "id": "b6e72ae8-93b8-4ff3-876a-8b687c332cee",
   "metadata": {},
   "outputs": [],
   "source": []
  }
 ],
 "metadata": {
  "kernelspec": {
   "display_name": "Python 3 (ipykernel)",
   "language": "python",
   "name": "python3"
  },
  "language_info": {
   "codemirror_mode": {
    "name": "ipython",
    "version": 3
   },
   "file_extension": ".py",
   "mimetype": "text/x-python",
   "name": "python",
   "nbconvert_exporter": "python",
   "pygments_lexer": "ipython3",
   "version": "3.12.7"
  }
 },
 "nbformat": 4,
 "nbformat_minor": 5
}
