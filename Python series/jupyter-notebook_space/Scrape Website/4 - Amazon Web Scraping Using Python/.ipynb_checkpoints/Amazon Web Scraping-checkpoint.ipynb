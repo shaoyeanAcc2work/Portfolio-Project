{
 "cells": [
  {
   "cell_type": "code",
   "execution_count": 1,
   "id": "c8ba8d39-19d5-48e1-a5f8-0dc158effbc4",
   "metadata": {},
   "outputs": [],
   "source": [
    "# import Libraries\n",
    "from bs4 import BeautifulSoup\n",
    "import requests \n",
    "import datetime\n",
    "import time\n",
    "import smtplib"
   ]
  },
  {
   "cell_type": "code",
   "execution_count": 2,
   "id": "fa84bf9e-dc40-420b-8b80-41595941c134",
   "metadata": {},
   "outputs": [
    {
     "name": "stdout",
     "output_type": "stream",
     "text": [
      "Title: Got Data Funny Business Data Analyst T-Shirt\n",
      "Price: 15.\n"
     ]
    }
   ],
   "source": [
    "def get_amazon_product_info(url):\n",
    "    # Updated headers to look more like a real browser\n",
    "    headers = {\n",
    "        \"User-Agent\": \"Mozilla/5.0 (Windows NT 10.0; Win64; x64) AppleWebKit/537.36 (KHTML, like Gecko) Chrome/131.0.0.0 Safari/537.36\",\n",
    "        \"Accept\": \"text/html,application/xhtml+xml,application/xml;q=0.9,image/avif,image/webp,image/apng,*/*;q=0.8\",\n",
    "        \"Accept-Language\": \"en-US,en;q=0.9\",\n",
    "        \"Accept-Encoding\": \"gzip, deflate, br\",\n",
    "        \"DNT\": \"1\",\n",
    "        \"Connection\": \"close\"\n",
    "    }\n",
    "    \n",
    "    try:\n",
    "        page = requests.get(url, headers=headers, timeout=5)\n",
    "        soup = BeautifulSoup(page.content, \"html.parser\")\n",
    "        \n",
    "        # Get title - using span with class instead of ID\n",
    "        title_element = soup.select_one(\"span#productTitle\")\n",
    "        title = title_element.get_text().strip() if title_element else \"Title not found\"\n",
    "        \n",
    "        # Get price - trying multiple possible selectors\n",
    "        price_element = (\n",
    "            soup.select_one(\"span.a-price-whole\") or\n",
    "            soup.select_one(\"span.a-offscreen\") or\n",
    "            soup.select_one(\"span.a-price\")\n",
    "        )\n",
    "        price = price_element.get_text().strip() if price_element else \"Price not found\"\n",
    "        \n",
    "        return {\n",
    "            \"title\": title,\n",
    "            \"price\": price\n",
    "        }\n",
    "        \n",
    "    except Exception as e:\n",
    "        print(f\"An error occurred: {str(e)}\")\n",
    "        return None\n",
    "\n",
    "# Add a delay between requests to be more polite\n",
    "time.sleep(2)\n",
    "\n",
    "# Test the function\n",
    "url = 'https://www.amazon.com/Funny-Data-Systems-Business-Analyst/dp/B07FNW9FGJ/'\n",
    "result = get_amazon_product_info(url)\n",
    "if result:\n",
    "    print(f\"Title: {result['title']}\")\n",
    "    print(f\"Price: {result['price']}\")"
   ]
  },
  {
   "cell_type": "code",
   "execution_count": null,
   "id": "842da9e2-b424-4203-8e31-74bea68f8e2c",
   "metadata": {},
   "outputs": [],
   "source": []
  },
  {
   "cell_type": "code",
   "execution_count": null,
   "id": "b7c71dad-46c7-4a03-9f03-bba133eaa9f7",
   "metadata": {},
   "outputs": [],
   "source": []
  },
  {
   "cell_type": "code",
   "execution_count": null,
   "id": "cb72ca69-8cac-4aaf-ac9c-a39fa8314b33",
   "metadata": {},
   "outputs": [],
   "source": []
  },
  {
   "cell_type": "code",
   "execution_count": null,
   "id": "91fd743c-a97f-4d1d-a72c-806363171ff8",
   "metadata": {},
   "outputs": [],
   "source": []
  },
  {
   "cell_type": "code",
   "execution_count": null,
   "id": "3b44c59b-fed4-4018-8a8b-82a33fc875b8",
   "metadata": {},
   "outputs": [],
   "source": []
  },
  {
   "cell_type": "code",
   "execution_count": null,
   "id": "106f0672-b203-455c-b81e-8069d4476a38",
   "metadata": {},
   "outputs": [],
   "source": []
  },
  {
   "cell_type": "code",
   "execution_count": null,
   "id": "6ac05706-38ba-4779-b8c3-6f0ce35129d0",
   "metadata": {},
   "outputs": [],
   "source": []
  },
  {
   "cell_type": "code",
   "execution_count": null,
   "id": "7ec63053-a412-4a19-8abd-1d9c268d518b",
   "metadata": {},
   "outputs": [],
   "source": []
  },
  {
   "cell_type": "code",
   "execution_count": null,
   "id": "374e667f-eedf-4cec-8082-dca5dde650f1",
   "metadata": {},
   "outputs": [],
   "source": []
  }
 ],
 "metadata": {
  "kernelspec": {
   "display_name": "Python 3 (ipykernel)",
   "language": "python",
   "name": "python3"
  },
  "language_info": {
   "codemirror_mode": {
    "name": "ipython",
    "version": 3
   },
   "file_extension": ".py",
   "mimetype": "text/x-python",
   "name": "python",
   "nbconvert_exporter": "python",
   "pygments_lexer": "ipython3",
   "version": "3.12.7"
  }
 },
 "nbformat": 4,
 "nbformat_minor": 5
}
